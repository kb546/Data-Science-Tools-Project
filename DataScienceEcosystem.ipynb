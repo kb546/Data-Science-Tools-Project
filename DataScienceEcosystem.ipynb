{
 "cells": [
  {
   "cell_type": "markdown",
   "id": "8e0c78cc-da02-4c75-9a36-a895d8002bc1",
   "metadata": {},
   "source": [
    "# Data Science Tools and Ecosytem"
   ]
  },
  {
   "cell_type": "markdown",
   "id": "e5da1889-3459-4615-a505-034f049b1b0a",
   "metadata": {},
   "source": [
    "In this notebook, Data Science Tools and Ecosystem are summarized"
   ]
  },
  {
   "cell_type": "markdown",
   "id": "364626d4-21c3-4bae-bc6d-b5ee9a51328a",
   "metadata": {},
   "source": [
    "**Objectives:**\n",
    "- Add comments to code cells\n",
    "- Create markdown cells\n",
    "- Add ordered and unordered lists to markdown cells\n",
    "- Format content of markdown cells with heading styles"
   ]
  },
  {
   "cell_type": "markdown",
   "id": "b55bc82f-3476-466b-880d-ccf88ce467ec",
   "metadata": {},
   "source": [
    "Some of the popular language that Data Scientists use are:\n",
    "1) Python\n",
    "2) R \n",
    "3) SQL\n",
    "4) Scala\n",
    "5) Java\n",
    "6) C++\n",
    "7) Julia\n",
    "8) Javascript\n",
    "9) Php\n",
    "10) Go\n",
    "11) Ruby\n",
    "12) Visual Basic\n"
   ]
  },
  {
   "cell_type": "markdown",
   "id": "019a5050-2e94-4074-923f-4d04d1aaf2c9",
   "metadata": {},
   "source": [
    "Some of the commonly used libraries used by Data Scientists include:\n",
    "1) Pandas\n",
    "2) NumPy\n",
    "3) Matplotlib\n",
    "4) Seaborn\n",
    "5) Scikit-learn\n",
    "6) Keras\n",
    "7) TensorFlow\n",
    "8) PyTorch\n",
    "9) Apache Spark\n",
    "10) Vegas\n",
    "11) Big DL\n",
    "12) Ggplot2"
   ]
  },
  {
   "cell_type": "markdown",
   "id": "c22dacec-bb9e-42c3-a775-2f76451830fa",
   "metadata": {
    "tags": []
   },
   "source": [
    "| Data Science Tools |\n",
    "| ---------------------- |\n",
    "| Anaconda |\n",
    "| Jupyter Notebooks  |\n",
    "| R Studio |\n",
    "| Spyder |\n",
    "| Zeppelin |"
   ]
  },
  {
   "cell_type": "markdown",
   "id": "a8da1f36-3a41-4a42-8ba3-83e761d8f124",
   "metadata": {
    "tags": []
   },
   "source": [
    "### Below are a few examples of evaluating arithmetic expressions in Python"
   ]
  },
  {
   "cell_type": "code",
   "execution_count": 1,
   "id": "b0d734a4-be9f-4c38-9a97-e3eeee48242e",
   "metadata": {
    "tags": []
   },
   "outputs": [
    {
     "data": {
      "text/plain": [
       "17"
      ]
     },
     "execution_count": 1,
     "metadata": {},
     "output_type": "execute_result"
    }
   ],
   "source": [
    "# This a simple arithmetic expression to mutiply then add integers\n",
    "(3*4)+5"
   ]
  },
  {
   "cell_type": "code",
   "execution_count": 3,
   "id": "cd70f44f-8ad5-42ce-aabe-214b4b4beb25",
   "metadata": {
    "tags": []
   },
   "outputs": [
    {
     "data": {
      "text/plain": [
       "3"
      ]
     },
     "execution_count": 3,
     "metadata": {},
     "output_type": "execute_result"
    }
   ],
   "source": [
    "# This will convert 200 minutes to hours by diving by 60\n",
    "200//60"
   ]
  },
  {
   "cell_type": "markdown",
   "id": "79730296-d02b-45b0-b2cc-035c3a810418",
   "metadata": {},
   "source": [
    "## Author:\n",
    "Bill Kamanzi"
   ]
  }
 ],
 "metadata": {
  "kernelspec": {
   "display_name": "Python",
   "language": "python",
   "name": "conda-env-python-py"
  },
  "language_info": {
   "codemirror_mode": {
    "name": "ipython",
    "version": 3
   },
   "file_extension": ".py",
   "mimetype": "text/x-python",
   "name": "python",
   "nbconvert_exporter": "python",
   "pygments_lexer": "ipython3",
   "version": "3.7.12"
  }
 },
 "nbformat": 4,
 "nbformat_minor": 5
}
